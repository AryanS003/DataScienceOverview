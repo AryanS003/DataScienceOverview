{
 "cells": [
  {
   "cell_type": "markdown",
   "id": "88fb6d28",
   "metadata": {},
   "source": [
    "# Data science tools and ecosystem\n",
    "In this notebook, Data Science Tools and Ecosystem are summarized."
   ]
  },
  {
   "cell_type": "markdown",
   "id": "b97f4712",
   "metadata": {},
   "source": [
    "# Objectives: \n",
    "- Languages used by Data Scientists\n",
    "- Common libraries in Data Science\n",
    "- Arithmetic expressions in python\n",
    "- minutes to hours conversion in python"
   ]
  },
  {
   "cell_type": "markdown",
   "id": "551f2162",
   "metadata": {},
   "source": [
    "Some of the popular languages that Data Scientists use are:\n",
    "1. Python\n",
    "2. R\n",
    "3. SQL"
   ]
  },
  {
   "cell_type": "markdown",
   "id": "3db98ae9",
   "metadata": {},
   "source": [
    "Some of the commonly used libraries used by Data Scientists include:\n",
    "1. pandas\n",
    "2. matplotlib\n",
    "3. seaborn"
   ]
  },
  {
   "cell_type": "markdown",
   "id": "bfbef740",
   "metadata": {},
   "source": [
    "| Data Science tools |\n",
    "------------------------------\n",
    "| Rstudio |\n",
    "| Jupyter notebook |\n",
    "| Anaconda |"
   ]
  },
  {
   "cell_type": "markdown",
   "id": "953f760b",
   "metadata": {},
   "source": [
    "### Below are a few examples of evaluating arithmetic expressions in Python"
   ]
  },
  {
   "cell_type": "code",
   "execution_count": 5,
   "id": "83bcc4c6",
   "metadata": {},
   "outputs": [
    {
     "name": "stdout",
     "output_type": "stream",
     "text": [
      "17\n"
     ]
    }
   ],
   "source": [
    "# This a simple arithmetic expression to mutiply then add integers\n",
    "temp = (3*4)+5\n",
    "print(temp)"
   ]
  },
  {
   "cell_type": "code",
   "execution_count": 6,
   "id": "0622e282",
   "metadata": {},
   "outputs": [
    {
     "name": "stdout",
     "output_type": "stream",
     "text": [
      "3.3333333333333335\n"
     ]
    }
   ],
   "source": [
    "# this code will convert 200 minutes in hours\n",
    "time_in_minutes = 200\n",
    "time_in_hours = time_in_minutes/60\n",
    "print(time_in_hours)"
   ]
  },
  {
   "cell_type": "markdown",
   "id": "69778175",
   "metadata": {},
   "source": [
    "## Author\n",
    "Aryan Shishodia"
   ]
  }
 ],
 "metadata": {
  "kernelspec": {
   "display_name": "Python 3 (ipykernel)",
   "language": "python",
   "name": "python3"
  },
  "language_info": {
   "codemirror_mode": {
    "name": "ipython",
    "version": 3
   },
   "file_extension": ".py",
   "mimetype": "text/x-python",
   "name": "python",
   "nbconvert_exporter": "python",
   "pygments_lexer": "ipython3",
   "version": "3.9.13"
  }
 },
 "nbformat": 4,
 "nbformat_minor": 5
}
